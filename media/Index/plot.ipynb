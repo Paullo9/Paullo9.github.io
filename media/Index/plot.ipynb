{
 "cells": [
  {
   "cell_type": "code",
   "execution_count": null,
   "id": "fcebe141",
   "metadata": {},
   "outputs": [
    {
     "name": "stdout",
     "output_type": "stream",
     "text": [
      "✅ Created logo.png and favicon.png\n"
     ]
    }
   ],
   "source": [
    "import matplotlib.pyplot as plt\n",
    "\n",
    "# Create a figure\n",
    "fig, ax = plt.subplots(figsize=(2, 2))\n",
    "ax.set_facecolor(\"#0ea5e9\")  # background color\n",
    "\n",
    "# Draw text (your initials or anything you like)\n",
    "ax.text(0.5, 0.5, \"PL\",\n",
    "        fontsize=60, color=\"black\",\n",
    "        ha=\"center\", va=\"center\", fontweight=\"bold\")\n",
    "\n",
    "# Remove axes for a clean look\n",
    "ax.set_xticks([])\n",
    "ax.set_yticks([])\n",
    "ax.axis(\"off\")\n",
    "\n",
    "# Save main logo\n",
    "plt.savefig(\"logo.png\", bbox_inches=\"tight\", pad_inches=0, dpi=300, transparent=False)\n",
    "\n",
    "# Save small favicon version\n",
    "plt.savefig(\"favicon.png\", bbox_inches=\"tight\", pad_inches=0, dpi=64, transparent=False)\n",
    "\n",
    "plt.close()\n",
    "print(\"✅ Created logo.png and favicon.png\")"
   ]
  }
 ],
 "metadata": {
  "kernelspec": {
   "display_name": "plot",
   "language": "python",
   "name": "python3"
  },
  "language_info": {
   "codemirror_mode": {
    "name": "ipython",
    "version": 3
   },
   "file_extension": ".py",
   "mimetype": "text/x-python",
   "name": "python",
   "nbconvert_exporter": "python",
   "pygments_lexer": "ipython3",
   "version": "3.13.5"
  }
 },
 "nbformat": 4,
 "nbformat_minor": 5
}
