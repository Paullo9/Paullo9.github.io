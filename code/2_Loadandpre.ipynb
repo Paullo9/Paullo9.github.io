{
 "cells": [
  {
   "cell_type": "markdown",
   "id": "ac2361e2-389d-43c9-b51f-8df5f5cb166e",
   "metadata": {},
   "source": [
    "# Load and examine a dataset\n",
    "- sample by HW, mesurment by CO\n",
    "- high-pressure torsion sample, Ni65Cu35"
   ]
  },
  {
   "cell_type": "markdown",
   "id": "059a2d98-0d16-4269-b81f-373346fe2fa8",
   "metadata": {},
   "source": [
    "### Acknowledgements\n",
    "\n",
    "The following was created on basis of the turorial provided by the py4DSTEM instructor team:\n",
    "- Ben Savitzky (bhsavitzky@lbl.gov)\n",
    "- Steve Zeltmann (steven.zeltmann@berkeley.edu)\n",
    "- Stephanie Ribet (sribet@u.northwestern.edu)\n",
    "- Alex Rakowski (arakowski@lbl.gov)\n",
    "- Colin Ophus (clophus@lbl.gov)"
   ]
  },
  {
   "cell_type": "markdown",
   "id": "721ab228-cd8d-407c-99ab-e019f5414b32",
   "metadata": {},
   "source": [
    "# Set environment: Load the packages\n",
    "- for details on how to connect to the cluster and set up environments visit paullobpreis.com (pw:4DSTEM)"
   ]
  },
  {
   "cell_type": "code",
   "execution_count": 1,
   "id": "c8d1addf-2a4f-4297-8969-b4b0fe3e190e",
   "metadata": {},
   "outputs": [
    {
     "data": {
      "text/plain": [
       "'0.14.15'"
      ]
     },
     "execution_count": 1,
     "metadata": {},
     "output_type": "execute_result"
    }
   ],
   "source": [
    "# timestr used to create simple timestamps for easier version controll\n",
    "import time\n",
    "timestr = time.strftime(\"%Y%m%d\")\n",
    "\n",
    "# py4dstem as main tool, the follwing command also prints the currently used version\n",
    "import py4DSTEM\n",
    "py4DSTEM.__version__"
   ]
  },
  {
   "cell_type": "markdown",
   "id": "5460633e-91f0-42e3-8c7c-29f3ea16ccd6",
   "metadata": {
    "tags": []
   },
   "source": [
    "# Load the dataset"
   ]
  },
  {
   "cell_type": "code",
   "execution_count": 2,
   "id": "a29df2f9-85fa-4f81-9577-41863f7ffef1",
   "metadata": {},
   "outputs": [],
   "source": [
    "# Load the .dm4 file from a workspace on OMNI or XNAS, set filepath with 'filepath_data = \"FILEPATH\"'\n",
    "# even better, use dirpath'' and 'filepath_data', this makes it easier to add more paths later\n",
    "\n",
    "dirpath = \"/fast/ws-tmp/g031362-data/high_pressure_torsion/lamC/ROI3/\"\n",
    "\n",
    "\n",
    "filepath_data = dirpath + 'COPL_Ni65Cu35_C_ROI3_240827_aper_50_conv_1.5_spot_6_CL_47_stepsize_10_r_x_178_r_y_186_GIF_512x512.dm4'"
   ]
  },
  {
   "cell_type": "code",
   "execution_count": 3,
   "id": "919884c3-64bc-4fd1-80db-a7e60ed8895a",
   "metadata": {},
   "outputs": [],
   "source": [
    "# Load the datacube from the .dm4 file specified above\n",
    "\n",
    "# py4DSTEM uses the import_file function to load non-native file formats, while the read function is used for files originally written by py4DSTEM.\n",
    "\n",
    "datacube = py4DSTEM.import_file(\n",
    "filepath_data,\n",
    ")"
   ]
  },
  {
   "cell_type": "code",
   "execution_count": 4,
   "id": "61819c6f-e801-4efc-945a-99448e84057f",
   "metadata": {},
   "outputs": [
    {
     "data": {
      "text/plain": [
       "DataCube( A 4-dimensional array of shape (186, 178, 512, 512) called 'dm_dataset',\n",
       "          with dimensions:\n",
       "\n",
       "              Rx = [0.0,0.010716622695326805,0.02143324539065361,...] µm\n",
       "              Ry = [0.0,0.010716622695326805,0.02143324539065361,...] µm\n",
       "              Qx = [0.0,0.0072991721332073215,0.014598344266414643,...] A^-1\n",
       "              Qy = [0.0,0.0072991721332073215,0.014598344266414643,...] A^-1\n",
       ")"
      ]
     },
     "execution_count": 4,
     "metadata": {},
     "output_type": "execute_result"
    }
   ],
   "source": [
    "# datacube directly passed reveiles the 4-dimensional array of Real Space and Diffaction Space for the sample\n",
    "\n",
    "datacube"
   ]
  },
  {
   "cell_type": "markdown",
   "id": "169820b5-af3d-4077-9b87-51206916ed0a",
   "metadata": {},
   "source": [
    "# Calibrate pixel size and unit"
   ]
  },
  {
   "cell_type": "code",
   "execution_count": 5,
   "id": "8000b870-8f48-4b9e-babe-207d0868f62e",
   "metadata": {},
   "outputs": [
    {
     "name": "stdout",
     "output_type": "stream",
     "text": [
      "(186, 178, 512, 512)\n",
      "(186, 178, 512, 512)\n",
      "(186, 178)\n",
      "(512, 512)\n"
     ]
    }
   ],
   "source": [
    "# several properties of our datacube can be shown by:\n",
    "print(datacube.data.shape)\n",
    "print(datacube.shape)\n",
    "print(datacube.Rshape)\n",
    "print(datacube.Qshape)"
   ]
  },
  {
   "cell_type": "code",
   "execution_count": 6,
   "id": "4fd88505-54c7-4ede-ad88-9822521862e4",
   "metadata": {},
   "outputs": [
    {
     "name": "stdout",
     "output_type": "stream",
     "text": [
      "The first dimension:\n",
      "  - dimension name: Rx\n",
      "  - dimension units: µm\n",
      "  - dim vector: [0.         0.01071662 0.02143325 0.03214987 0.04286649 0.05358311\n",
      " 0.06429974 0.07501636 0.08573298 0.0964496 ]\n",
      "\n",
      "The third dimension:\n",
      "  - dimension name: Qx\n",
      "  - dimension units: A^-1\n",
      "  - dim vector: [0.         0.00729917 0.01459834 0.02189752 0.02919669 0.03649586\n",
      " 0.04379503 0.0510942  0.05839338 0.06569255]\n",
      "\n",
      "\n",
      "The diffraction space pixels are each 0.0073 A^-1\n",
      "The real space pixels are each 0.0107 µm\n"
     ]
    }
   ],
   "source": [
    "# Vectors calibrating each dimension of the dataset are included within the datacube, utilizing any available calibrations retrieved from the file\n",
    "\n",
    "# dimension vectors -\n",
    "print('The first dimension:')\n",
    "print(f'  - dimension name: {datacube.dim_names[0]}')\n",
    "print(f'  - dimension units: {datacube.dim_units[0]}')\n",
    "print(f'  - dim vector: {datacube.dims[0][:10]}') # note the `[:10]` - we're only displaying the first 10 entries\n",
    "print()\n",
    "print('The third dimension:')\n",
    "print(f'  - dimension name: {datacube.dim_names[2]}')\n",
    "print(f'  - dimension units: {datacube.dim_units[2]}')\n",
    "print(f'  - dim vector: {datacube.dims[2][:10]}')\n",
    "\n",
    "print()\n",
    "\n",
    "# pixel sizes -\n",
    "qpix = datacube.calibration.get_Q_pixel_size()\n",
    "qpixunit = datacube.calibration.get_Q_pixel_units()\n",
    "rpix = datacube.calibration.get_R_pixel_size()\n",
    "rpixunit = datacube.calibration.get_R_pixel_units()\n",
    "print()\n",
    "print(f\"The diffraction space pixels are each {qpix:.4f} {qpixunit}\")\n",
    "print(f\"The real space pixels are each {rpix:.4f} {rpixunit}\")"
   ]
  },
  {
   "cell_type": "code",
   "execution_count": 7,
   "id": "4ab51075-de8d-4e33-a327-f696ef6e0f24",
   "metadata": {},
   "outputs": [
    {
     "data": {
      "text/plain": [
       "Calibration( A Metadata instance called 'calibration', containing the following fields:\n",
       "\n",
       "             Q_pixel_size:    0.0072991721332073215\n",
       "             R_pixel_size:    0.010716623\n",
       "             Q_pixel_units:   A^-1\n",
       "             R_pixel_units:   µm\n",
       "             QR_flip:         False\n",
       ")"
      ]
     },
     "execution_count": 7,
     "metadata": {},
     "output_type": "execute_result"
    }
   ],
   "source": [
    "# complete list of calibrations is located here; the above vectors are derived from these values\n",
    "\n",
    "datacube.calibration"
   ]
  },
  {
   "cell_type": "code",
   "execution_count": 8,
   "id": "c4277364-2a86-468f-b8ad-708b73e77daa",
   "metadata": {},
   "outputs": [
    {
     "data": {
      "text/plain": [
       "Calibration( A Metadata instance called 'calibration', containing the following fields:\n",
       "\n",
       "             Q_pixel_size:    0.0072991721332073215\n",
       "             R_pixel_size:    5\n",
       "             Q_pixel_units:   A^-1\n",
       "             R_pixel_units:   nm\n",
       "             QR_flip:         False\n",
       ")"
      ]
     },
     "execution_count": 8,
     "metadata": {},
     "output_type": "execute_result"
    }
   ],
   "source": [
    "# Currently, the real space pixel size is shown as 1 pixel, indicating that this information was either unavailable or not extracted from the .dm4 file.\n",
    "# Assuming we know the real space pixel size between beam positions is 5 nanometers, we can update the value using:\n",
    "\n",
    "datacube.calibration.set_R_pixel_size(5)\n",
    "datacube.calibration.set_R_pixel_units('nm')\n",
    "\n",
    "# and print the newly calibrated values with:\n",
    "datacube.calibration\n",
    "\n",
    "# the values will be automatically updated in the datacube"
   ]
  },
  {
   "cell_type": "markdown",
   "id": "823be23b-2c1c-4cc9-82ce-3ce58c089e4d",
   "metadata": {},
   "source": [
    "# Save the modified/unmodified data\n",
    "- Now we set a new filepath consisting of the old path with additions indicating our processing\n",
    "- from the name alone should be clear if we preprosessed/filtered/binned\n",
    "- additionalls I implemented timestr to include the date"
   ]
  },
  {
   "cell_type": "code",
   "execution_count": 9,
   "id": "ffdd517f-78c0-4a66-bf68-13ea53553fb5",
   "metadata": {},
   "outputs": [
    {
     "name": "stdout",
     "output_type": "stream",
     "text": [
      "/fast/ws-tmp/g031362-data/high_pressure_torsion/lamC/ROI3/COPL_Ni65Cu35_C_ROI3_240827_aper_50_conv_1.5_spot_6_CL_47_stepsize_10_r_x_178_r_y_186_GIF_512x512_preprocessed_unfiltered_no_bin.h5\n"
     ]
    }
   ],
   "source": [
    "# this data is saved as a .h5 file format \n",
    "\n",
    "from os.path import splitext\n",
    "# filepath_save = splitext(filepath_data)[0] + '_preprocessed_unfiltered_no_bin_' + timestr + '.h5'\n",
    "filepath_save = splitext(filepath_data)[0] + '_preprocessed_unfiltered_no_bin.h5'\n",
    "\n",
    "# print the new filepath \n",
    "\n",
    "print(filepath_save)"
   ]
  },
  {
   "cell_type": "code",
   "execution_count": 10,
   "id": "d6ffe2e4-ea1a-438d-b699-f0bcae5c3d50",
   "metadata": {},
   "outputs": [],
   "source": [
    "# Save\n",
    "\n",
    "py4DSTEM.save(\n",
    "    filepath_save,\n",
    "    datacube,\n",
    "    mode = 'o'    # 'overwrite' mode\n",
    ")"
   ]
  },
  {
   "cell_type": "markdown",
   "id": "df683b46-1dcd-461d-a9ef-966c9a36f931",
   "metadata": {},
   "source": [
    "# Inspect the resulting HDF5 file\n",
    "- first we want to see where the data lives without opening it\n",
    "- secondly we check which default name was assigned"
   ]
  },
  {
   "cell_type": "code",
   "execution_count": 11,
   "id": "f629e398-272f-4879-b994-41934f60d572",
   "metadata": {
    "tags": []
   },
   "outputs": [
    {
     "name": "stdout",
     "output_type": "stream",
     "text": [
      "/\n",
      "|---dm_dataset_root\n",
      "    |---dm_dataset\n",
      "\n",
      "\n"
     ]
    },
    {
     "data": {
      "text/plain": [
       "'dm_dataset'"
      ]
     },
     "execution_count": 11,
     "metadata": {},
     "output_type": "execute_result"
    }
   ],
   "source": [
    "# 'dm_dataset' and 'dm_dataset_root' are placeholders we could re-assigning a different name later\n",
    "\n",
    "py4DSTEM.print_h5_tree(filepath_save)\n",
    "\n",
    "datacube.name"
   ]
  }
 ],
 "metadata": {
  "kernelspec": {
   "display_name": "Python 3 (ipykernel)",
   "language": "python",
   "name": "python3"
  },
  "language_info": {
   "codemirror_mode": {
    "name": "ipython",
    "version": 3
   },
   "file_extension": ".py",
   "mimetype": "text/x-python",
   "name": "python",
   "nbconvert_exporter": "python",
   "pygments_lexer": "ipython3",
   "version": "3.10.14"
  }
 },
 "nbformat": 4,
 "nbformat_minor": 5
}
